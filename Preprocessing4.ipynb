{
  "nbformat": 4,
  "nbformat_minor": 0,
  "metadata": {
    "colab": {
      "provenance": [],
      "authorship_tag": "ABX9TyNFqgBZtnhmlC034ZRN/Qug",
      "include_colab_link": true
    },
    "kernelspec": {
      "name": "python3",
      "display_name": "Python 3"
    },
    "language_info": {
      "name": "python"
    }
  },
  "cells": [
    {
      "cell_type": "markdown",
      "metadata": {
        "id": "view-in-github",
        "colab_type": "text"
      },
      "source": [
        "<a href=\"https://colab.research.google.com/github/cahyotriatmojo/DM_Processing/blob/main/Preprocessing4.ipynb\" target=\"_parent\"><img src=\"https://colab.research.google.com/assets/colab-badge.svg\" alt=\"Open In Colab\"/></a>"
      ]
    },
    {
      "cell_type": "code",
      "execution_count": 1,
      "metadata": {
        "id": "LtGQN9X1Rh13"
      },
      "outputs": [],
      "source": [
        "import numpy as np\n",
        "import matplotlib.pyplot as plt\n",
        "import pandas as pd\n",
        "\n"
      ]
    },
    {
      "cell_type": "code",
      "source": [
        "dataset = pd.read_csv('Data.csv')\n",
        "x = dataset. iloc[:, :-1].values\n",
        "y = dataset.iloc[:, -1].values"
      ],
      "metadata": {
        "id": "_dXs26VtS4M4"
      },
      "execution_count": 2,
      "outputs": []
    },
    {
      "cell_type": "code",
      "source": [
        "print(x)"
      ],
      "metadata": {
        "colab": {
          "base_uri": "https://localhost:8080/"
        },
        "id": "iBIAXj9hS6a6",
        "outputId": "c1428dfb-eb15-44a0-9f40-89e4f16e4cc1"
      },
      "execution_count": 3,
      "outputs": [
        {
          "output_type": "stream",
          "name": "stdout",
          "text": [
            "[['Solo' 20.0 120.0]\n",
            " ['Tegal' 27.0 318.0]\n",
            " ['Solo' 30.0 90.0]\n",
            " ['Demak' 23.0 210.0]\n",
            " ['Solo' 40.0 nan]\n",
            " ['Tegal' 35.0 122.0]\n",
            " ['Teagl' nan 20.0]\n",
            " ['Demak' 48.0 790.0]\n",
            " ['Solo' 60.0 130.0]\n",
            " ['Demak' 37.0 70.0]]\n"
          ]
        }
      ]
    },
    {
      "cell_type": "markdown",
      "source": [
        "[:, :-1] pilih semua baris dalam dataset, serta semua kolom\n",
        "kecuali kolom terakhir(LABEL)."
      ],
      "metadata": {
        "id": "pfuzP1C4TmRo"
      }
    },
    {
      "cell_type": "code",
      "source": [
        "print(y)"
      ],
      "metadata": {
        "colab": {
          "base_uri": "https://localhost:8080/"
        },
        "id": "Pu8WIBOzTB3v",
        "outputId": "4e7988c4-bc41-4c0f-e0b2-57244e7c687a"
      },
      "execution_count": 4,
      "outputs": [
        {
          "output_type": "stream",
          "name": "stdout",
          "text": [
            "['No' 'Yes' 'No' 'No' 'Yes' 'Yes' 'No' 'Yes' 'No' 'Yes']\n"
          ]
        }
      ]
    },
    {
      "cell_type": "markdown",
      "source": [
        "[:, -1]  pilih semua baris, kolom terakhir.   PRINT DATA LABEL"
      ],
      "metadata": {
        "id": "ovUw9VfxT3x4"
      }
    },
    {
      "cell_type": "code",
      "source": [
        "from sklearn.impute import SimpleImputer\n",
        "imputer = SimpleImputer (missing_values=np.nan, strategy='mean')\n",
        "imputer.fit(x[:, 1:3])\n",
        "x[:, 1:3] = imputer.transform(x[:, 1:3])"
      ],
      "metadata": {
        "id": "3kftSnyoXsEw"
      },
      "execution_count": 5,
      "outputs": []
    },
    {
      "cell_type": "code",
      "source": [
        "print(x)"
      ],
      "metadata": {
        "colab": {
          "base_uri": "https://localhost:8080/"
        },
        "id": "WiQfa2uxX7sh",
        "outputId": "b282564c-2df1-4959-dc28-55f19a3a2e23"
      },
      "execution_count": 6,
      "outputs": [
        {
          "output_type": "stream",
          "name": "stdout",
          "text": [
            "[['Solo' 20.0 120.0]\n",
            " ['Tegal' 27.0 318.0]\n",
            " ['Solo' 30.0 90.0]\n",
            " ['Demak' 23.0 210.0]\n",
            " ['Solo' 40.0 207.77777777777777]\n",
            " ['Tegal' 35.0 122.0]\n",
            " ['Teagl' 35.55555555555556 20.0]\n",
            " ['Demak' 48.0 790.0]\n",
            " ['Solo' 60.0 130.0]\n",
            " ['Demak' 37.0 70.0]]\n"
          ]
        }
      ]
    },
    {
      "cell_type": "markdown",
      "source": [],
      "metadata": {
        "id": "xT26lUKF29f6"
      }
    },
    {
      "cell_type": "markdown",
      "source": [
        "Menambahkan library sklearn\n",
        "• Class SimpleImputer() digunakan untuk mengganti nilai yang\n",
        "kosong dengan mean kolom.\n",
        "• missing_values : nilai data yang digunakan sebagai\n",
        "penanda bahwa nilai aslinya tidak ada (missing); dalam hal\n",
        "ini NaN (np.nan)\n",
        "• strategy : dalam hal ini rata-rata kolom ('mean'), bisa juga\n",
        "menggunakan 'median', 'most_frequent' (modus),\n",
        "atau 'constant’.\n",
        "• Selanjutnya obyek imputer harus di fit berdasarkan kolom yang\n",
        "bersangkutan menggunakan metode fit()"
      ],
      "metadata": {
        "id": "OU66uQaWYiN3"
      }
    },
    {
      "cell_type": "code",
      "source": [
        "from sklearn.compose import ColumnTransformer\n",
        "from sklearn.preprocessing import OneHotEncoder\n",
        "ct = ColumnTransformer(transformers=[('encoder' , OneHotEncoder (), [0])], remainder='passthrough')\n",
        "x = np.array(ct. fit_transform(x))"
      ],
      "metadata": {
        "id": "HVBWdfdoZOEQ"
      },
      "execution_count": 7,
      "outputs": []
    },
    {
      "cell_type": "markdown",
      "source": [
        "matrik x sebelumnya pada Kota bertype string, jadi diubah ke (int atau float). "
      ],
      "metadata": {
        "id": "dcV3h_xx5qr_"
      }
    },
    {
      "cell_type": "code",
      "source": [
        "print(x)"
      ],
      "metadata": {
        "colab": {
          "base_uri": "https://localhost:8080/"
        },
        "id": "e1Aui2w2ZkMq",
        "outputId": "d6bf0490-e45e-4e73-b106-7bf20809dfaa"
      },
      "execution_count": 8,
      "outputs": [
        {
          "output_type": "stream",
          "name": "stdout",
          "text": [
            "[[0.0 1.0 0.0 0.0 20.0 120.0]\n",
            " [0.0 0.0 0.0 1.0 27.0 318.0]\n",
            " [0.0 1.0 0.0 0.0 30.0 90.0]\n",
            " [1.0 0.0 0.0 0.0 23.0 210.0]\n",
            " [0.0 1.0 0.0 0.0 40.0 207.77777777777777]\n",
            " [0.0 0.0 0.0 1.0 35.0 122.0]\n",
            " [0.0 0.0 1.0 0.0 35.55555555555556 20.0]\n",
            " [1.0 0.0 0.0 0.0 48.0 790.0]\n",
            " [0.0 1.0 0.0 0.0 60.0 130.0]\n",
            " [1.0 0.0 0.0 0.0 37.0 70.0]]\n"
          ]
        }
      ]
    },
    {
      "cell_type": "code",
      "source": [
        "from sklearn.preprocessing import LabelEncoder\n",
        "le = LabelEncoder()\n",
        "y = le.fit_transform(y)"
      ],
      "metadata": {
        "id": "2sk3OHEsZt5U"
      },
      "execution_count": 9,
      "outputs": []
    },
    {
      "cell_type": "code",
      "source": [
        "print(y)"
      ],
      "metadata": {
        "colab": {
          "base_uri": "https://localhost:8080/"
        },
        "id": "9ec4917AZxOz",
        "outputId": "2f6dd469-9930-462b-faad-e92df0d264a5"
      },
      "execution_count": 10,
      "outputs": [
        {
          "output_type": "stream",
          "name": "stdout",
          "text": [
            "[0 1 0 0 1 1 0 1 0 1]\n"
          ]
        }
      ]
    },
    {
      "cell_type": "markdown",
      "source": [
        "Matrik Y hanya akan diubah menjadi numerik(0, 1 , dan seterusnya) dengan LabelEncoder.\n"
      ],
      "metadata": {
        "id": "9uZY8-2z3Z5Z"
      }
    },
    {
      "cell_type": "code",
      "source": [
        "from sklearn.model_selection import train_test_split\n",
        "x_train, x_test, y_train, y_test = train_test_split(x, y, test_size = 0.2, random_state = 1)"
      ],
      "metadata": {
        "id": "QKA1BnBbaCKv"
      },
      "execution_count": 11,
      "outputs": []
    },
    {
      "cell_type": "code",
      "source": [
        "print(x_test)"
      ],
      "metadata": {
        "colab": {
          "base_uri": "https://localhost:8080/"
        },
        "id": "VsLlsjh2aVSj",
        "outputId": "529b18ff-057a-4930-ed1c-179856da329c"
      },
      "execution_count": 12,
      "outputs": [
        {
          "output_type": "stream",
          "name": "stdout",
          "text": [
            "[[0.0 1.0 0.0 0.0 30.0 90.0]\n",
            " [1.0 0.0 0.0 0.0 37.0 70.0]]\n"
          ]
        }
      ]
    },
    {
      "cell_type": "markdown",
      "source": [
        "Test_size : Proporsi test set, dalam hal ini 0.2"
      ],
      "metadata": {
        "id": "dwNkc5Yx4Ovz"
      }
    },
    {
      "cell_type": "code",
      "source": [
        "print(y_test)"
      ],
      "metadata": {
        "colab": {
          "base_uri": "https://localhost:8080/"
        },
        "id": "ytULOrgAadxg",
        "outputId": "ec27fa7c-ffb7-46ed-b639-c10455061f1e"
      },
      "execution_count": 13,
      "outputs": [
        {
          "output_type": "stream",
          "name": "stdout",
          "text": [
            "[0 1]\n"
          ]
        }
      ]
    },
    {
      "cell_type": "code",
      "source": [
        "print(y_train)"
      ],
      "metadata": {
        "colab": {
          "base_uri": "https://localhost:8080/"
        },
        "id": "FPBidzukaj-6",
        "outputId": "ebc0f7c8-fb1b-4a4c-8f90-fde398c1ee6e"
      },
      "execution_count": 14,
      "outputs": [
        {
          "output_type": "stream",
          "name": "stdout",
          "text": [
            "[0 1 0 0 1 1 0 1]\n"
          ]
        }
      ]
    },
    {
      "cell_type": "markdown",
      "source": [
        "Train_size : Proporsi train size. jika tidak di set, maka akan menyesuaikan dengan test size (dalam kasus ini 0.8). Berlaku kebalikannya."
      ],
      "metadata": {
        "id": "VsSz3i4c3ww1"
      }
    },
    {
      "cell_type": "code",
      "source": [
        "from sklearn.preprocessing import StandardScaler\n",
        "sc = StandardScaler()\n",
        "x_train[:, 4:] = sc.fit_transform(x_train[:, 4:])\n",
        "x_test[:, 4:] = sc.transform(x_test[:, 4:])"
      ],
      "metadata": {
        "id": "YWCsIO9JUfSM"
      },
      "execution_count": 15,
      "outputs": []
    },
    {
      "cell_type": "markdown",
      "source": [
        "StandarScaler menghilangkan mean (terpusat pada 0) dan menskalakan ke variansi (deviasi standar = 1)."
      ],
      "metadata": {
        "id": "sHImJNo14gy-"
      }
    },
    {
      "cell_type": "code",
      "source": [
        "print(x_test)"
      ],
      "metadata": {
        "colab": {
          "base_uri": "https://localhost:8080/"
        },
        "id": "pdBIxJIsc58A",
        "outputId": "86d23989-e032-40f8-9429-fb0c32733871"
      },
      "execution_count": 16,
      "outputs": [
        {
          "output_type": "stream",
          "name": "stdout",
          "text": [
            "[[0.0 1.0 0.0 0.0 -0.48688971811658505 -0.6701264755622031]\n",
            " [1.0 0.0 0.0 0.0 0.07464899568377863 -0.7596424426131838]]\n"
          ]
        }
      ]
    },
    {
      "cell_type": "code",
      "source": [
        "print(x_train)"
      ],
      "metadata": {
        "colab": {
          "base_uri": "https://localhost:8080/"
        },
        "id": "T9MNrCe5j1MA",
        "outputId": "781d914e-158f-4c6c-a209-e159acdf8474"
      },
      "execution_count": 17,
      "outputs": [
        {
          "output_type": "stream",
          "name": "stdout",
          "text": [
            "[[0.0 0.0 1.0 0.0 -0.04122407224328042 -0.9834323602406356]\n",
            " [0.0 1.0 0.0 0.0 0.31530844445536305 -0.14297689181753873]\n",
            " [0.0 1.0 0.0 0.0 -1.289087880688533 -0.535852524985732]\n",
            " [1.0 0.0 0.0 0.0 -1.0484284319169488 -0.13303067325631862]\n",
            " [0.0 0.0 0.0 1.0 -0.7275491668881695 0.35035554881897735]\n",
            " [1.0 0.0 0.0 0.0 0.9570669745129216 2.462932371222123]\n",
            " [0.0 1.0 0.0 0.0 1.9197047695992593 -0.49109454146024156]\n",
            " [0.0 0.0 0.0 1.0 -0.08579063683061099 -0.5269009282806338]]\n"
          ]
        }
      ]
    }
  ]
}